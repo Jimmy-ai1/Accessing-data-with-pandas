{
  "cells": [
    {
      "cell_type": "markdown",
      "metadata": {
        "id": "view-in-github",
        "colab_type": "text"
      },
      "source": [
        "<a href=\"https://colab.research.google.com/github/Jimmy-ai1/Accessing-data-with-pandas/blob/master/Accessing_data_with_python_lab.ipynb\" target=\"_parent\"><img src=\"https://colab.research.google.com/assets/colab-badge.svg\" alt=\"Open In Colab\"/></a>"
      ]
    },
    {
      "cell_type": "markdown",
      "metadata": {
        "id": "r2iPIt8FMwMf"
      },
      "source": [
        "# Accessing Data within Pandas - Lab"
      ]
    },
    {
      "cell_type": "markdown",
      "metadata": {
        "id": "WnGDrx23MwMm"
      },
      "source": [
        "## Introduction\n",
        "\n",
        "In this lab, we'll look at a dataset which contains information on World Cup matches. Let's use the pandas commands learned in the previous lesson to learn more about our data!"
      ]
    },
    {
      "cell_type": "markdown",
      "metadata": {
        "id": "Kppz2V9nMwMn"
      },
      "source": [
        "## Objectives\n",
        "\n",
        "You will be able to:\n",
        "\n",
        "- Use pandas methods and attributes to access information about a dataset\n",
        "- Index pandas dataframes with .loc, .iloc, and column names\n",
        "- Use a boolean mask to index pandas series and dataframes"
      ]
    },
    {
      "cell_type": "markdown",
      "metadata": {
        "id": "USIqVOHsMwMo"
      },
      "source": [
        "## Load the Data"
      ]
    },
    {
      "cell_type": "markdown",
      "metadata": {
        "id": "K8O5EihtMwMo"
      },
      "source": [
        "Load the file `'WorldCupMatches.csv'` as a DataFrame in pandas."
      ]
    },
    {
      "cell_type": "code",
      "execution_count": null,
      "metadata": {
        "id": "vVLxLXeCMwMp"
      },
      "outputs": [],
      "source": [
        "# Replace None with appropriate code\n",
        "\n",
        "# Import pandas using the standard alias\n",
        "None\n",
        "\n",
        "# Load 'WorldCupMatches.csv' as a DataFrame\n",
        "df = None"
      ]
    },
    {
      "cell_type": "markdown",
      "metadata": {
        "id": "7HIjLTXhMwMq"
      },
      "source": [
        "## Common Methods and Attributes"
      ]
    },
    {
      "cell_type": "markdown",
      "metadata": {
        "id": "i1_2x7TKMwMr"
      },
      "source": [
        "Use the correct method to display the **first 7 rows** of the dataset."
      ]
    },
    {
      "cell_type": "code",
      "execution_count": null,
      "metadata": {
        "id": "BfjCUNurMwMs"
      },
      "outputs": [],
      "source": [
        "# Your code here"
      ]
    },
    {
      "cell_type": "markdown",
      "metadata": {
        "id": "D8nSWnfOMwMs"
      },
      "source": [
        "Display the **last 3 rows** of the dataset."
      ]
    },
    {
      "cell_type": "code",
      "execution_count": null,
      "metadata": {
        "id": "hHOEZj2dMwMt"
      },
      "outputs": [],
      "source": [
        "# Your code here"
      ]
    },
    {
      "cell_type": "markdown",
      "metadata": {
        "id": "60-fOHDAMwMt"
      },
      "source": [
        "Get a concise summary of the data using `.info()`."
      ]
    },
    {
      "cell_type": "code",
      "execution_count": null,
      "metadata": {
        "id": "W2UtrgFSMwMt"
      },
      "outputs": [],
      "source": [
        "# Your code here"
      ]
    },
    {
      "cell_type": "markdown",
      "metadata": {
        "id": "guq068GoMwMt"
      },
      "source": [
        "Obtain a tuple representing the **number of rows and number of columns**."
      ]
    },
    {
      "cell_type": "code",
      "execution_count": null,
      "metadata": {
        "id": "58wUCdhvMwMt"
      },
      "outputs": [],
      "source": [
        "# Your code here"
      ]
    },
    {
      "cell_type": "markdown",
      "metadata": {
        "id": "If7QR0JRMwMu"
      },
      "source": [
        "Use the appropriate attribute to get the **column names**."
      ]
    },
    {
      "cell_type": "code",
      "execution_count": null,
      "metadata": {
        "id": "R2o9tnfuMwMu"
      },
      "outputs": [],
      "source": [
        "# Your code here"
      ]
    },
    {
      "cell_type": "markdown",
      "metadata": {
        "id": "w8T7xp33MwMu"
      },
      "source": [
        "## Selecting DataFrame Information"
      ]
    },
    {
      "cell_type": "markdown",
      "metadata": {
        "id": "XAcoUiuzMwMu"
      },
      "source": [
        "When looking at the DataFrame's `.head()` and `.tail()`, you might have noticed that the games are structured chronologically in the DataFrame.\n",
        "\n",
        "Use the right selection method to display all the information from the 3rd to the 5th game (i.e. **select rows 3 through 5 inclusive**)."
      ]
    },
    {
      "cell_type": "code",
      "execution_count": null,
      "metadata": {
        "id": "_DuE_VKhMwMu"
      },
      "outputs": [],
      "source": [
        "# Your code here"
      ]
    },
    {
      "cell_type": "markdown",
      "metadata": {
        "id": "E7HXFqJvMwMv"
      },
      "source": [
        "Now, display the info from **game 5-9** (inclusive), but **only the `\"Home Team Name\"` and the `\"Away Team Name\"` columns**."
      ]
    },
    {
      "cell_type": "code",
      "execution_count": null,
      "metadata": {
        "id": "rxCsO9tQMwMv"
      },
      "outputs": [],
      "source": [
        "# Your code here"
      ]
    },
    {
      "cell_type": "markdown",
      "metadata": {
        "id": "9V3Q2Wh8MwMv"
      },
      "source": [
        "Next, we'd like the information on all the games played in **Group 3** for the **1950** World Cup."
      ]
    },
    {
      "cell_type": "markdown",
      "metadata": {
        "id": "QxVUybCZMwMw"
      },
      "source": [
        "Hint: You can combine conditions like this:\n",
        "\n",
        "`df[(condition1) | (condition2)]`  -> Returns rows where either condition is true\n",
        "\n",
        "`df[(condition1) & (condition2)]`  -> Returns rows where both conditions are true"
      ]
    },
    {
      "cell_type": "code",
      "execution_count": null,
      "metadata": {
        "id": "xcrEJCNBMwMw"
      },
      "outputs": [],
      "source": [
        "# Your code here"
      ]
    },
    {
      "cell_type": "markdown",
      "metadata": {
        "id": "9xwUCwgUMwMw"
      },
      "source": [
        "Let's repeat the command above, but this time display **only the attendance column** for the Group 3 games."
      ]
    },
    {
      "cell_type": "code",
      "execution_count": null,
      "metadata": {
        "id": "95V0dK-DMwMw"
      },
      "outputs": [],
      "source": [
        "# Your code here"
      ]
    },
    {
      "cell_type": "markdown",
      "metadata": {
        "id": "zYiwFZbiMwMw"
      },
      "source": [
        "Throughout the entire history of the World Cup as recorded in this dataset, **how many home games were played by the Netherlands**?\n",
        "\n",
        "(Remember that you can use the `len()` built-in function to find the number of rows in a DataFrame.)"
      ]
    },
    {
      "cell_type": "code",
      "execution_count": null,
      "metadata": {
        "id": "rY-Ps6AUMwMx"
      },
      "outputs": [],
      "source": [
        "# Your code here"
      ]
    },
    {
      "cell_type": "markdown",
      "metadata": {
        "id": "Fv_G24OpMwMx"
      },
      "source": [
        "**How many games were played by the Netherlands in total**?"
      ]
    },
    {
      "cell_type": "code",
      "execution_count": null,
      "metadata": {
        "id": "p6uIZIXsMwMx"
      },
      "outputs": [],
      "source": [
        "# Your code here"
      ]
    },
    {
      "cell_type": "markdown",
      "metadata": {
        "id": "uO9lSDmkMwMx"
      },
      "source": [
        "Next, let's try and figure out **how many games the USA played in the 2014 World Cup**."
      ]
    },
    {
      "cell_type": "code",
      "execution_count": null,
      "metadata": {
        "id": "CHkHCMtkMwMx"
      },
      "outputs": [],
      "source": [
        "# Your code here"
      ]
    },
    {
      "cell_type": "markdown",
      "metadata": {
        "id": "yT7b5bR6MwMy"
      },
      "source": [
        "Now, let's try to find out **how many countries participated in the 1986 World Cup**."
      ]
    },
    {
      "cell_type": "markdown",
      "metadata": {
        "id": "886LLdgzMwMy"
      },
      "source": [
        "Hint 1: As a first step, create a new dataset that only contains games in that year.\n",
        "\n",
        "Hint 2: Make sure you don't end up with duplicate country names. Consider using `set()` or `.unique()`."
      ]
    },
    {
      "cell_type": "code",
      "execution_count": null,
      "metadata": {
        "scrolled": true,
        "id": "7FfODN6UMwMy"
      },
      "outputs": [],
      "source": [
        "# Your code here"
      ]
    },
    {
      "cell_type": "markdown",
      "metadata": {
        "id": "bW37fbreMwMz"
      },
      "source": [
        "## Changing Values and Creating New Columns"
      ]
    },
    {
      "cell_type": "markdown",
      "metadata": {
        "id": "kOXNC5A8MwMz"
      },
      "source": [
        "In World Cup history, **how many matches had 5 goals or more in total**? Create a column `\"Total Goals\"` to answer this question."
      ]
    },
    {
      "cell_type": "code",
      "execution_count": null,
      "metadata": {
        "id": "uHAebwgoMwMz"
      },
      "outputs": [],
      "source": [
        "# Your code here"
      ]
    },
    {
      "cell_type": "markdown",
      "metadata": {
        "id": "jDqHn40xMwM5"
      },
      "source": [
        "Now **create a new column `\"Half-time Goals\"`** in `df` that includes both home and away values."
      ]
    },
    {
      "cell_type": "code",
      "execution_count": null,
      "metadata": {
        "id": "4i9rLqJuMwM5"
      },
      "outputs": [],
      "source": [
        "# Your code here"
      ]
    },
    {
      "cell_type": "code",
      "execution_count": null,
      "metadata": {
        "id": "5ACfNTRTMwM5"
      },
      "outputs": [],
      "source": [
        "# Run this cell without changes to see your new column\n",
        "df.columns"
      ]
    },
    {
      "cell_type": "markdown",
      "metadata": {
        "id": "C2uQVjf8MwM6"
      },
      "source": [
        "Run the code below. You'll notice that for Korea, there are records for both North-Korea (Korea DPR) and South-Korea (Korea Republic)."
      ]
    },
    {
      "cell_type": "code",
      "execution_count": null,
      "metadata": {
        "id": "HHFiLK8TMwM6"
      },
      "outputs": [],
      "source": [
        "# Run this cell without changes\n",
        "\n",
        "# Display all records containing the string 'Korea'\n",
        "df.loc[df['Home Team Name'].str.contains('Korea'), 'Home Team Name']"
      ]
    },
    {
      "cell_type": "markdown",
      "metadata": {
        "id": "vpaBXPEKMwM6"
      },
      "source": [
        "Imagine that, for some reason, we simply want Korea listed as one entry, so we want to replace every \"Home Team Name\" and \"Away Team Name\" entry that contains \"Korea\" to simply \"Korea\". In the same way, we want to change the columns \"Home Team Initials\" and \"Away Team Initials\" to NSK (North & South Korea) instead of \"KOR\" and \"PRK\"."
      ]
    },
    {
      "cell_type": "code",
      "execution_count": null,
      "metadata": {
        "id": "HFs4X7iTMwM7"
      },
      "outputs": [],
      "source": [
        "# Update the 'Home Team Name' and 'Home Team Initials' columns\n"
      ]
    },
    {
      "cell_type": "markdown",
      "metadata": {
        "id": "Eun0JcLVMwM7"
      },
      "source": [
        "Make sure to verify your answer!"
      ]
    },
    {
      "cell_type": "code",
      "execution_count": null,
      "metadata": {
        "id": "8_Aw8KdbMwM7"
      },
      "outputs": [],
      "source": [
        "# Check the updated columns\n"
      ]
    },
    {
      "cell_type": "markdown",
      "metadata": {
        "id": "eGbNJxJkMwM8"
      },
      "source": [
        "## Summary\n",
        "\n",
        "In this lab, you practiced accessing data within Pandas!"
      ]
    }
  ],
  "metadata": {
    "kernelspec": {
      "display_name": "Python (learn-env)",
      "language": "python",
      "name": "learn-env"
    },
    "language_info": {
      "codemirror_mode": {
        "name": "ipython",
        "version": 3
      },
      "file_extension": ".py",
      "mimetype": "text/x-python",
      "name": "python",
      "nbconvert_exporter": "python",
      "pygments_lexer": "ipython3",
      "version": "3.8.5"
    },
    "colab": {
      "provenance": [],
      "include_colab_link": true
    }
  },
  "nbformat": 4,
  "nbformat_minor": 0
}